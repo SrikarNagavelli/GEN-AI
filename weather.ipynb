{
  "nbformat": 4,
  "nbformat_minor": 0,
  "metadata": {
    "colab": {
      "provenance": [],
      "authorship_tag": "ABX9TyNZJNRm2u+i8+GYIis57Xin",
      "include_colab_link": true
    },
    "kernelspec": {
      "name": "python3",
      "display_name": "Python 3"
    },
    "language_info": {
      "name": "python"
    }
  },
  "cells": [
    {
      "cell_type": "markdown",
      "metadata": {
        "id": "view-in-github",
        "colab_type": "text"
      },
      "source": [
        "<a href=\"https://colab.research.google.com/github/SrikarNagavelli/GEN-AI/blob/main/weather.ipynb\" target=\"_parent\"><img src=\"https://colab.research.google.com/assets/colab-badge.svg\" alt=\"Open In Colab\"/></a>"
      ]
    },
    {
      "cell_type": "code",
      "execution_count": 5,
      "metadata": {
        "colab": {
          "base_uri": "https://localhost:8080/"
        },
        "id": "ehb7h0U_UD-e",
        "outputId": "f4c17a52-b3e0-49a8-f339-8e7ebaee3a46"
      },
      "outputs": [
        {
          "output_type": "stream",
          "name": "stdout",
          "text": [
            "Enter the city name: Hanamkonda\n",
            "The current temperature in Hanamkonda is 38.09°C\n"
          ]
        }
      ],
      "source": [
        "import requests\n",
        "\n",
        "def get_temperature(city, api_key):\n",
        "    base_url = \"http://api.openweathermap.org/data/2.5/weather\"\n",
        "    params = {\n",
        "        \"q\": city,\n",
        "        \"appid\": api_key,\n",
        "        \"units\": \"metric\"\n",
        "    }\n",
        "    response = requests.get(base_url, params=params)\n",
        "    data = response.json()\n",
        "\n",
        "    if response.status_code == 200:\n",
        "        temperature = data[\"main\"][\"temp\"]\n",
        "        print(f\"The current temperature in {city} is {temperature}°C\")\n",
        "    else:\n",
        "        print(f\"Error: {data['message']}\")\n",
        "\n",
        "if __name__ == \"__main__\":\n",
        "    city_name = input(\"Enter the city name: \")\n",
        "    api_key = \"1270de52647f4eb0f186d2ce321be3a7\"\n",
        "    get_temperature(city_name, api_key)\n"
      ]
    }
  ]
}